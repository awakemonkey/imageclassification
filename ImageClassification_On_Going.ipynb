{
 "cells": [
  {
   "cell_type": "code",
   "execution_count": 172,
   "metadata": {},
   "outputs": [],
   "source": [
    "import matplotlib.pyplot as plt\n",
    "from keras.preprocessing.image import ImageDataGenerator\n",
    "from keras import optimizers\n",
    "from keras.models import Sequential\n",
    "from keras.layers import Dropout, Flatten, Dense, Activation\n",
    "from keras.layers.convolutional import Convolution2D, MaxPooling2D\n",
    "from keras import callbacks\n",
    "from tqdm import tqdm\n",
    "import numpy as np\n",
    "import pickle\n",
    "import time\n",
    "import sys\n",
    "import os\n",
    "import cv2"
   ]
  },
  {
   "cell_type": "code",
   "execution_count": 173,
   "metadata": {},
   "outputs": [],
   "source": [
    "database = \"D:\\ImageProject\\practice\\Original Dataset\"\n",
    "CATEGORIES = [\"Apple Gala\", \"Apple Green\", \"Apple Queen\", \"Apricot\", \"Avocado\", \"Avocado ripe\", \"Banana Lady Finger\", \"Eggplant\", \"Kiwi\", \"Onion Red\", \"Tomato\"]"
   ]
  },
  {
   "cell_type": "code",
   "execution_count": 174,
   "metadata": {},
   "outputs": [],
   "source": [
    "data = []\n",
    "\n",
    "for category in CATEGORIES:\n",
    "    path = os.path.join(database, category)\n",
    "    for img in os.listdir(path):\n",
    "        img_path = os.path.join(path, img)\n",
    "        label = CATEGORIES.index(category)\n",
    "        arr = cv2.imread(img_path, cv2.IMREAD_GRAYSCALE)\n",
    "        new_arr = cv2.resize(arr, (60, 60))\n",
    "        data.append([new_arr, label])\n",
    "        break\n",
    "    break"
   ]
  },
  {
   "cell_type": "code",
   "execution_count": 175,
   "metadata": {},
   "outputs": [
    {
     "data": {
      "text/plain": [
       "[[array([[254, 255, 255, ..., 254, 255, 255],\n",
       "         [255, 255, 255, ..., 255, 255, 255],\n",
       "         [255, 255, 255, ..., 255, 255, 255],\n",
       "         ...,\n",
       "         [255, 255, 255, ..., 255, 255, 255],\n",
       "         [255, 255, 255, ..., 255, 255, 255],\n",
       "         [255, 255, 255, ..., 255, 255, 255]], dtype=uint8),\n",
       "  0]]"
      ]
     },
     "execution_count": 175,
     "metadata": {},
     "output_type": "execute_result"
    }
   ],
   "source": [
    "data"
   ]
  },
  {
   "cell_type": "code",
   "execution_count": 176,
   "metadata": {},
   "outputs": [],
   "source": [
    "import random\n",
    "\n",
    "random.shuffle(data)"
   ]
  },
  {
   "cell_type": "code",
   "execution_count": 177,
   "metadata": {},
   "outputs": [],
   "source": [
    "X = []\n",
    "y = []"
   ]
  },
  {
   "cell_type": "code",
   "execution_count": 178,
   "metadata": {},
   "outputs": [],
   "source": [
    "for features, label in data:\n",
    "    X.append(features)\n",
    "    y.append(label)"
   ]
  },
  {
   "cell_type": "code",
   "execution_count": 179,
   "metadata": {},
   "outputs": [],
   "source": [
    "X = np.array(X)\n",
    "y = np.array(y)"
   ]
  },
  {
   "cell_type": "code",
   "execution_count": 180,
   "metadata": {},
   "outputs": [],
   "source": [
    "pickle.dump(X, open('X.pkl', 'wb'))\n",
    "pickle.dump(y, open('y.pkl', 'wb'))"
   ]
  },
  {
   "cell_type": "code",
   "execution_count": 181,
   "metadata": {},
   "outputs": [],
   "source": [
    "X = X/255"
   ]
  },
  {
   "cell_type": "code",
   "execution_count": 140,
   "metadata": {},
   "outputs": [],
   "source": [
    "import tensorflow as tf\n",
    "from tensorflow import keras\n",
    "import numpy as np\n",
    "\n",
    "X_test = X\n",
    "y_test = y\n",
    "X_valid, X_train = X[:100], X[100:]\n",
    "y_valid, y_train = y[:100], y[100:]\n",
    "X_test = X_test/255\n",
    "X_train = X_train[..., np.newaxis]\n",
    "X_valid = X_valid[..., np.newaxis]\n",
    "X_test = X_test[..., np.newaxis]\n"
   ]
  },
  {
   "cell_type": "code",
   "execution_count": 142,
   "metadata": {},
   "outputs": [
    {
     "data": {
      "text/plain": [
       "array([[[0.99607843, 1.        , 1.        , ..., 0.99607843,\n",
       "         1.        , 1.        ],\n",
       "        [1.        , 1.        , 1.        , ..., 1.        ,\n",
       "         1.        , 1.        ],\n",
       "        [1.        , 1.        , 1.        , ..., 1.        ,\n",
       "         1.        , 1.        ],\n",
       "        ...,\n",
       "        [1.        , 1.        , 1.        , ..., 1.        ,\n",
       "         1.        , 1.        ],\n",
       "        [1.        , 1.        , 1.        , ..., 1.        ,\n",
       "         1.        , 1.        ],\n",
       "        [1.        , 1.        , 1.        , ..., 1.        ,\n",
       "         1.        , 1.        ]]])"
      ]
     },
     "execution_count": 142,
     "metadata": {},
     "output_type": "execute_result"
    }
   ],
   "source": [
    "X"
   ]
  },
  {
   "cell_type": "code",
   "execution_count": 144,
   "metadata": {},
   "outputs": [
    {
     "data": {
      "text/plain": [
       "array([0])"
      ]
     },
     "execution_count": 144,
     "metadata": {},
     "output_type": "execute_result"
    }
   ],
   "source": [
    "y"
   ]
  },
  {
   "cell_type": "code",
   "execution_count": 141,
   "metadata": {},
   "outputs": [
    {
     "data": {
      "text/plain": [
       "array([[[[0.00390619],\n",
       "         [0.00392157],\n",
       "         [0.00392157],\n",
       "         ...,\n",
       "         [0.00390619],\n",
       "         [0.00392157],\n",
       "         [0.00392157]],\n",
       "\n",
       "        [[0.00392157],\n",
       "         [0.00392157],\n",
       "         [0.00392157],\n",
       "         ...,\n",
       "         [0.00392157],\n",
       "         [0.00392157],\n",
       "         [0.00392157]],\n",
       "\n",
       "        [[0.00392157],\n",
       "         [0.00392157],\n",
       "         [0.00392157],\n",
       "         ...,\n",
       "         [0.00392157],\n",
       "         [0.00392157],\n",
       "         [0.00392157]],\n",
       "\n",
       "        ...,\n",
       "\n",
       "        [[0.00392157],\n",
       "         [0.00392157],\n",
       "         [0.00392157],\n",
       "         ...,\n",
       "         [0.00392157],\n",
       "         [0.00392157],\n",
       "         [0.00392157]],\n",
       "\n",
       "        [[0.00392157],\n",
       "         [0.00392157],\n",
       "         [0.00392157],\n",
       "         ...,\n",
       "         [0.00392157],\n",
       "         [0.00392157],\n",
       "         [0.00392157]],\n",
       "\n",
       "        [[0.00392157],\n",
       "         [0.00392157],\n",
       "         [0.00392157],\n",
       "         ...,\n",
       "         [0.00392157],\n",
       "         [0.00392157],\n",
       "         [0.00392157]]]])"
      ]
     },
     "execution_count": 141,
     "metadata": {},
     "output_type": "execute_result"
    }
   ],
   "source": [
    "X_test"
   ]
  },
  {
   "cell_type": "code",
   "execution_count": 126,
   "metadata": {},
   "outputs": [],
   "source": [
    "model = keras.models.Sequential([\n",
    "keras.layers.Conv2D(64, 7, activation=\"relu\", padding=\"same\", input_shape=[100, 100, 1]),\n",
    "keras.layers.MaxPooling2D(2),\n",
    "keras.layers.Conv2D(128, 3, activation=\"relu\", padding=\"same\"),\n",
    "keras.layers.Conv2D(128, 3, activation=\"relu\", padding=\"same\"),\n",
    "keras.layers.MaxPooling2D(2),\n",
    "keras.layers.Conv2D(256, 3, activation=\"relu\", padding=\"same\"),\n",
    "keras.layers.Conv2D(256, 3, activation=\"relu\", padding=\"same\"),\n",
    "keras.layers.MaxPooling2D(2),\n",
    "keras.layers.Flatten(),\n",
    "keras.layers.Dense(128, activation=\"relu\"),\n",
    "keras.layers.Dropout(0.5),\n",
    "keras.layers.Dense(64, activation=\"relu\"),\n",
    "keras.layers.Dropout(0.5),\n",
    "keras.layers.Dense(10, activation=\"softmax\")\n",
    "])\n"
   ]
  },
  {
   "cell_type": "code",
   "execution_count": 127,
   "metadata": {},
   "outputs": [],
   "source": [
    "model.compile(loss=\"sparse_categorical_crossentropy\",\n",
    "              optimizer=\"nadam\",\n",
    "              metrics=[\"accuracy\"])\n"
   ]
  },
  {
   "cell_type": "code",
   "execution_count": null,
   "metadata": {},
   "outputs": [],
   "source": [
    "history = model.fit(X_train, y_train, epochs=10,\n",
    "                    validation_data=(X_valid, y_valid))\n"
   ]
  }
 ],
 "metadata": {
  "kernelspec": {
   "display_name": "Python 3",
   "language": "python",
   "name": "python3"
  },
  "language_info": {
   "codemirror_mode": {
    "name": "ipython",
    "version": 3
   },
   "file_extension": ".py",
   "mimetype": "text/x-python",
   "name": "python",
   "nbconvert_exporter": "python",
   "pygments_lexer": "ipython3",
   "version": "3.7.3"
  }
 },
 "nbformat": 4,
 "nbformat_minor": 2
}
